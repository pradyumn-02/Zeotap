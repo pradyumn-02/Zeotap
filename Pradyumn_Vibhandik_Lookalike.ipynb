{
 "cells": [
  {
   "cell_type": "code",
   "execution_count": 1,
   "id": "beab89a2-0952-4f11-8d1b-8501c6bc7931",
   "metadata": {},
   "outputs": [],
   "source": [
    "import pandas as pd\n",
    "import numpy as np\n",
    "from sklearn.preprocessing import StandardScaler\n",
    "from sklearn.metrics.pairwise import cosine_similarity\n"
   ]
  },
  {
   "cell_type": "code",
   "execution_count": 3,
   "id": "4a972baf-a87e-478c-902f-dfd9bcee35d4",
   "metadata": {},
   "outputs": [],
   "source": [
    "# Load the datasets\n",
    "customers = pd.read_csv('Customers.csv')\n",
    "products = pd.read_csv('Products.csv')\n",
    "transactions = pd.read_csv('Transactions.csv')"
   ]
  },
  {
   "cell_type": "code",
   "execution_count": 5,
   "id": "e87e5260-9e5d-407d-9eb6-14b05689456f",
   "metadata": {},
   "outputs": [],
   "source": [
    "# Merge transactions with products to get product category and price\n",
    "transactions = pd.merge(transactions, products, on='ProductID')"
   ]
  },
  {
   "cell_type": "code",
   "execution_count": 7,
   "id": "92e0fbdd-2011-44ef-a777-1af2e45a348c",
   "metadata": {},
   "outputs": [],
   "source": [
    "# Feature Engineering: Create customer features\n",
    "# 1. Total spending per customer\n",
    "total_spending = transactions.groupby('CustomerID')['TotalValue'].sum().reset_index()\n",
    "total_spending.columns = ['CustomerID', 'TotalSpending']"
   ]
  },
  {
   "cell_type": "code",
   "execution_count": 9,
   "id": "15b17172-179c-49b5-97c4-2612a11f43f1",
   "metadata": {},
   "outputs": [],
   "source": [
    "# 2. Average transaction value per customer\n",
    "avg_transaction_value = transactions.groupby('CustomerID')['TotalValue'].mean().reset_index()\n",
    "avg_transaction_value.columns = ['CustomerID', 'AvgTransactionValue']"
   ]
  },
  {
   "cell_type": "code",
   "execution_count": 11,
   "id": "e3290a34-683a-4ca3-b651-ceb5bfa52973",
   "metadata": {},
   "outputs": [],
   "source": [
    "# 3. Favorite product category (most purchased category)\n",
    "favorite_category = transactions.groupby(['CustomerID', 'Category']).size().reset_index(name='Count')\n",
    "favorite_category = favorite_category.loc[favorite_category.groupby('CustomerID')['Count'].idxmax()]\n",
    "favorite_category = favorite_category[['CustomerID', 'Category']]\n",
    "favorite_category.columns = ['CustomerID', 'FavoriteCategory']\n"
   ]
  },
  {
   "cell_type": "code",
   "execution_count": 13,
   "id": "5bbbf578-3a06-4aab-9d82-dc257d0990e7",
   "metadata": {},
   "outputs": [],
   "source": [
    "# 4. Number of transactions per customer\n",
    "num_transactions = transactions.groupby('CustomerID').size().reset_index(name='NumTransactions')"
   ]
  },
  {
   "cell_type": "code",
   "execution_count": 15,
   "id": "dc0d2ebb-d7e8-454d-9f9e-8fdcf33a3e21",
   "metadata": {},
   "outputs": [],
   "source": [
    "# 5. Total quantity purchased per customer\n",
    "total_quantity = transactions.groupby('CustomerID')['Quantity'].sum().reset_index()\n",
    "total_quantity.columns = ['CustomerID', 'TotalQuantity']"
   ]
  },
  {
   "cell_type": "code",
   "execution_count": 17,
   "id": "3771b0f8-3055-4402-b480-5ab6638d3793",
   "metadata": {},
   "outputs": [],
   "source": [
    "# Merge all features into a single customer feature dataframe\n",
    "customer_features = pd.merge(customers, total_spending, on='CustomerID', how='left')\n",
    "customer_features = pd.merge(customer_features, avg_transaction_value, on='CustomerID', how='left')\n",
    "customer_features = pd.merge(customer_features, favorite_category, on='CustomerID', how='left')\n",
    "customer_features = pd.merge(customer_features, num_transactions, on='CustomerID', how='left')\n",
    "customer_features = pd.merge(customer_features, total_quantity, on='CustomerID', how='left')"
   ]
  },
  {
   "cell_type": "code",
   "execution_count": 19,
   "id": "8c2a1285-76d7-4c7b-8834-5becf8641491",
   "metadata": {},
   "outputs": [],
   "source": [
    "# Handle missing values (if any)\n",
    "customer_features.fillna(0, inplace=True)"
   ]
  },
  {
   "cell_type": "code",
   "execution_count": 21,
   "id": "6d27570b-cdc2-4c8c-91ad-1c14f9d120ce",
   "metadata": {},
   "outputs": [],
   "source": [
    "# Encode categorical features (FavoriteCategory and Region)\n",
    "customer_features = pd.get_dummies(customer_features, columns=['FavoriteCategory', 'Region'], drop_first=True)"
   ]
  },
  {
   "cell_type": "code",
   "execution_count": 23,
   "id": "2894669a-934b-4816-a014-b39db99ced22",
   "metadata": {},
   "outputs": [],
   "source": [
    "# Normalize numerical features\n",
    "scaler = StandardScaler()\n",
    "numerical_features = ['TotalSpending', 'AvgTransactionValue', 'NumTransactions', 'TotalQuantity']\n",
    "customer_features[numerical_features] = scaler.fit_transform(customer_features[numerical_features])"
   ]
  },
  {
   "cell_type": "code",
   "execution_count": 25,
   "id": "943fc32e-16fd-4a83-9a2a-f455046bae90",
   "metadata": {},
   "outputs": [],
   "source": [
    "# Drop non-relevant columns for similarity calculation\n",
    "customer_features.set_index('CustomerID', inplace=True)\n",
    "customer_features.drop(columns=['CustomerName', 'SignupDate'], inplace=True)"
   ]
  },
  {
   "cell_type": "code",
   "execution_count": 27,
   "id": "16becd96-2e80-43fe-b5ca-af76672d8704",
   "metadata": {},
   "outputs": [],
   "source": [
    "# Calculate cosine similarity between customers\n",
    "similarity_matrix = cosine_similarity(customer_features)"
   ]
  },
  {
   "cell_type": "code",
   "execution_count": 29,
   "id": "99662675-f18f-4846-8d0b-9b7cd542e1dd",
   "metadata": {},
   "outputs": [],
   "source": [
    "# Convert similarity matrix to a dataframe\n",
    "similarity_df = pd.DataFrame(similarity_matrix, index=customer_features.index, columns=customer_features.index)"
   ]
  },
  {
   "cell_type": "code",
   "execution_count": 31,
   "id": "a5a2c9e1-a7cb-4010-b6a2-1ee0f6f1f88b",
   "metadata": {},
   "outputs": [],
   "source": [
    "# Function to get top 3 similar customers\n",
    "def get_top_similar_customers(customer_id, similarity_df, top_n=3):\n",
    "    # Exclude the customer itself (similarity score = 1)\n",
    "    similar_customers = similarity_df[customer_id].drop(customer_id).sort_values(ascending=False).head(top_n)\n",
    "    return similar_customers"
   ]
  },
  {
   "cell_type": "code",
   "execution_count": 33,
   "id": "5001645a-8a6f-4c3c-94a1-ebfcbe34a3f5",
   "metadata": {},
   "outputs": [],
   "source": [
    "# Generate recommendations for the first 20 customers (C0001 - C0020)\n",
    "lookalike_map = {}\n",
    "for customer_id in customer_features.index[:20]:\n",
    "    similar_customers = get_top_similar_customers(customer_id, similarity_df)\n",
    "    # Convert numpy.float64 to native Python float for better CSV compatibility\n",
    "    lookalike_map[customer_id] = [[similar_customer, float(score)] for similar_customer, score in zip(similar_customers.index, similar_customers.values)]"
   ]
  },
  {
   "cell_type": "code",
   "execution_count": 35,
   "id": "ee8a2940-3150-4e47-a807-4be57ebd5160",
   "metadata": {},
   "outputs": [],
   "source": [
    "# Convert the map to a dataframe\n",
    "lookalike_df = pd.DataFrame(lookalike_map.items(), columns=['CustomerID', 'Lookalikes'])"
   ]
  },
  {
   "cell_type": "code",
   "execution_count": 41,
   "id": "995db3d3-d2af-44cf-867d-7899c58662b6",
   "metadata": {},
   "outputs": [],
   "source": [
    "# Save the lookalike recommendations to a CSV file\n",
    "lookalike_df.to_csv('Pradyumn_Vibhandik_Lookalike.csv', index=False)"
   ]
  },
  {
   "cell_type": "code",
   "execution_count": 43,
   "id": "fc6c6f68-b649-4f2b-acdc-47bb9e2e6779",
   "metadata": {},
   "outputs": [
    {
     "name": "stdout",
     "output_type": "stream",
     "text": [
      "   CustomerID                                         Lookalikes\n",
      "0       C0001  [[C0190, 0.9449796330312132], [C0048, 0.943297...\n",
      "1       C0002  [[C0088, 0.9567950735454178], [C0077, 0.908192...\n",
      "2       C0003  [[C0052, 0.9054432967127763], [C0152, 0.837458...\n",
      "3       C0004  [[C0165, 0.9764434526284471], [C0169, 0.928839...\n",
      "4       C0005  [[C0186, 0.9780999104551312], [C0146, 0.962233...\n",
      "5       C0006  [[C0168, 0.9735222664202972], [C0187, 0.941447...\n",
      "6       C0007  [[C0140, 0.9807378835067342], [C0115, 0.930148...\n",
      "7       C0008  [[C0109, 0.8455416700232936], [C0084, 0.815627...\n",
      "8       C0009  [[C0198, 0.9643397739032491], [C0062, 0.929478...\n",
      "9       C0010  [[C0111, 0.9230243277923992], [C0062, 0.904731...\n",
      "10      C0011  [[C0137, 0.9378688431670885], [C0126, 0.920115...\n",
      "11      C0012  [[C0104, 0.9736188526206875], [C0113, 0.939148...\n",
      "12      C0013  [[C0099, 0.9830898690500507], [C0108, 0.927453...\n",
      "13      C0014  [[C0060, 0.9784678112789252], [C0128, 0.958410...\n",
      "14      C0015  [[C0131, 0.9767477723513618], [C0036, 0.971650...\n",
      "15      C0016  [[C0183, 0.9779001275673496], [C0067, 0.835055...\n",
      "16      C0017  [[C0075, 0.9642087488523517], [C0175, 0.895877...\n",
      "17      C0018  [[C0046, 0.8595657079594535], [C0117, 0.843928...\n",
      "18      C0019  [[C0121, 0.8948101267261224], [C0081, 0.798174...\n",
      "19      C0020  [[C0140, 0.9367270147429335], [C0007, 0.899365...\n"
     ]
    }
   ],
   "source": [
    "# Print the lookalike recommendations\n",
    "print(lookalike_df)"
   ]
  },
  {
   "cell_type": "code",
   "execution_count": null,
   "id": "958978a6-ed37-4b57-a939-b5d0c1d9f313",
   "metadata": {},
   "outputs": [],
   "source": []
  }
 ],
 "metadata": {
  "kernelspec": {
   "display_name": "Python 3 (ipykernel)",
   "language": "python",
   "name": "python3"
  },
  "language_info": {
   "codemirror_mode": {
    "name": "ipython",
    "version": 3
   },
   "file_extension": ".py",
   "mimetype": "text/x-python",
   "name": "python",
   "nbconvert_exporter": "python",
   "pygments_lexer": "ipython3",
   "version": "3.9.13"
  }
 },
 "nbformat": 4,
 "nbformat_minor": 5
}
